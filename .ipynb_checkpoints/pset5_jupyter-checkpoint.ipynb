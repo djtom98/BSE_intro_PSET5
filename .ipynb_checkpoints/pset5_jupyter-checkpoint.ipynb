{
 "cells": [
  {
   "cell_type": "code",
   "execution_count": 13,
   "id": "f1253150",
   "metadata": {},
   "outputs": [
    {
     "data": {
      "text/html": [
       "<div>\n",
       "<style scoped>\n",
       "    .dataframe tbody tr th:only-of-type {\n",
       "        vertical-align: middle;\n",
       "    }\n",
       "\n",
       "    .dataframe tbody tr th {\n",
       "        vertical-align: top;\n",
       "    }\n",
       "\n",
       "    .dataframe thead th {\n",
       "        text-align: right;\n",
       "    }\n",
       "</style>\n",
       "<table border=\"1\" class=\"dataframe\">\n",
       "  <thead>\n",
       "    <tr style=\"text-align: right;\">\n",
       "      <th></th>\n",
       "      <th>Hair</th>\n",
       "      <th>Eye</th>\n",
       "      <th>Sex</th>\n",
       "      <th>Freq</th>\n",
       "    </tr>\n",
       "  </thead>\n",
       "  <tbody>\n",
       "    <tr>\n",
       "      <th>1</th>\n",
       "      <td>Black</td>\n",
       "      <td>Brown</td>\n",
       "      <td>Male</td>\n",
       "      <td>32</td>\n",
       "    </tr>\n",
       "    <tr>\n",
       "      <th>2</th>\n",
       "      <td>Brown</td>\n",
       "      <td>Brown</td>\n",
       "      <td>Male</td>\n",
       "      <td>53</td>\n",
       "    </tr>\n",
       "    <tr>\n",
       "      <th>3</th>\n",
       "      <td>Red</td>\n",
       "      <td>Brown</td>\n",
       "      <td>Male</td>\n",
       "      <td>10</td>\n",
       "    </tr>\n",
       "    <tr>\n",
       "      <th>4</th>\n",
       "      <td>Blond</td>\n",
       "      <td>Brown</td>\n",
       "      <td>Male</td>\n",
       "      <td>3</td>\n",
       "    </tr>\n",
       "    <tr>\n",
       "      <th>5</th>\n",
       "      <td>Black</td>\n",
       "      <td>Blue</td>\n",
       "      <td>Male</td>\n",
       "      <td>11</td>\n",
       "    </tr>\n",
       "  </tbody>\n",
       "</table>\n",
       "</div>"
      ],
      "text/plain": [
       "    Hair    Eye   Sex  Freq\n",
       "1  Black  Brown  Male    32\n",
       "2  Brown  Brown  Male    53\n",
       "3    Red  Brown  Male    10\n",
       "4  Blond  Brown  Male     3\n",
       "5  Black   Blue  Male    11"
      ]
     },
     "execution_count": 13,
     "metadata": {},
     "output_type": "execute_result"
    }
   ],
   "source": [
    "from pydataset import data\n",
    "import matplotlib.pyplot as plt\n",
    "import numpy as np\n",
    "data()\n",
    "df = data('HairEyeColor')\n",
    "df.head()"
   ]
  },
  {
   "cell_type": "code",
   "execution_count": 25,
   "id": "6bd9d341",
   "metadata": {},
   "outputs": [],
   "source": [
    "x=df['Hair']\n",
    "y=df['Freq']\n",
    "z=df['Eye']\n",
    "testa=np.linspace(0,4*np.pi,1000)\n",
    "testb=np.sin(testa)\n",
    "c=df['Sex']\n",
    "colormap={'Male':'red','Female':'yellow'}"
   ]
  },
  {
   "cell_type": "code",
   "execution_count": 38,
   "id": "fbb89fce",
   "metadata": {},
   "outputs": [
    {
     "data": {
      "image/png": "[encoded data removed]",
      "text/plain": [
       "<Figure size 432x288 with 2 Axes>"
      ]
     },
     "metadata": {
      "needs_background": "light"
     },
     "output_type": "display_data"
    }
   ],
   "source": [
    "#fig= plt.scatter(x,y)\n",
    "# plt.bar(x)\n",
    "fig,ax=plt.subplots(2,1,num=1,sharey=True)\n",
    "# ax.plot(testa,testb)\n",
    "# plt.show()\n",
    "ax[0].bar(x,y)\n",
    "# ax[0].set_ylabel('Frequency/No of individuals')\n",
    "ax[0].set_xlabel('Hair Color')\n",
    "ax[1].bar(z,y)\n",
    "ax[1].set_ylabel('Frequency/No of individuals')\n",
    "ax[1].set_xlabel('Eye Color')\n",
    "fig.suptitle('Bar Graph of Hair and eye color vs frequency')\n",
    "plt.show()"
   ]
  },
  {
   "cell_type": "code",
   "execution_count": 36,
   "id": "6ef92e65",
   "metadata": {},
   "outputs": [
    {
     "data": {
      "text/plain": [
       "Text(0.5, 0.98, 'Scatter plot of Hair Color vs Frequency, with added differentiation based on sex')"
      ]
     },
     "execution_count": 36,
     "metadata": {},
     "output_type": "execute_result"
    },
    {
     "data": {
      "image/png": "[encoded data removed]",
      "text/plain": [
       "<Figure size 432x288 with 1 Axes>"
      ]
     },
     "metadata": {
      "needs_background": "light"
     },
     "output_type": "display_data"
    }
   ],
   "source": [
    "fig1,ax1=plt.subplots(1,1,num=2)\n",
    "ax1.scatter(x,y,c=[colormap[ci] for ci in c ],edgecolor='black')\n",
    "fig1.suptitle('Scatter plot of Hair Color vs Frequency, with added differentiation based on sex')"
   ]
  },
  {
   "cell_type": "code",
   "execution_count": 15,
   "id": "b45e3b6a",
   "metadata": {},
   "outputs": [],
   "source": []
  },
  {
   "cell_type": "code",
   "execution_count": null,
   "id": "df276f0e",
   "metadata": {},
   "outputs": [],
   "source": []
  }
 ],
 "metadata": {
  "kernelspec": {
   "display_name": "Python 3",
   "language": "python",
   "name": "python3"
  },
  "language_info": {
   "codemirror_mode": {
    "name": "ipython",
    "version": 3
   },
   "file_extension": ".py",
   "mimetype": "text/x-python",
   "name": "python",
   "nbconvert_exporter": "python",
   "pygments_lexer": "ipython3",
   "version": "3.8.3"
  }
 },
 "nbformat": 4,
 "nbformat_minor": 5
}
