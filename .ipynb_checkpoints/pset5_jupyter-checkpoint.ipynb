{
 "cells": [
  {
   "cell_type": "code",
   "execution_count": 1,
   "id": "5c789a79",
   "metadata": {},
   "outputs": [
    {
     "data": {
      "text/html": [
       "<div>\n",
       "<style scoped>\n",
       "    .dataframe tbody tr th:only-of-type {\n",
       "        vertical-align: middle;\n",
       "    }\n",
       "\n",
       "    .dataframe tbody tr th {\n",
       "        vertical-align: top;\n",
       "    }\n",
       "\n",
       "    .dataframe thead th {\n",
       "        text-align: right;\n",
       "    }\n",
       "</style>\n",
       "<table border=\"1\" class=\"dataframe\">\n",
       "  <thead>\n",
       "    <tr style=\"text-align: right;\">\n",
       "      <th></th>\n",
       "      <th>Hair</th>\n",
       "      <th>Eye</th>\n",
       "      <th>Sex</th>\n",
       "      <th>Freq</th>\n",
       "    </tr>\n",
       "  </thead>\n",
       "  <tbody>\n",
       "    <tr>\n",
       "      <th>1</th>\n",
       "      <td>Black</td>\n",
       "      <td>Brown</td>\n",
       "      <td>Male</td>\n",
       "      <td>32</td>\n",
       "    </tr>\n",
       "    <tr>\n",
       "      <th>2</th>\n",
       "      <td>Brown</td>\n",
       "      <td>Brown</td>\n",
       "      <td>Male</td>\n",
       "      <td>53</td>\n",
       "    </tr>\n",
       "    <tr>\n",
       "      <th>3</th>\n",
       "      <td>Red</td>\n",
       "      <td>Brown</td>\n",
       "      <td>Male</td>\n",
       "      <td>10</td>\n",
       "    </tr>\n",
       "    <tr>\n",
       "      <th>4</th>\n",
       "      <td>Blond</td>\n",
       "      <td>Brown</td>\n",
       "      <td>Male</td>\n",
       "      <td>3</td>\n",
       "    </tr>\n",
       "    <tr>\n",
       "      <th>5</th>\n",
       "      <td>Black</td>\n",
       "      <td>Blue</td>\n",
       "      <td>Male</td>\n",
       "      <td>11</td>\n",
       "    </tr>\n",
       "  </tbody>\n",
       "</table>\n",
       "</div>"
      ],
      "text/plain": [
       "    Hair    Eye   Sex  Freq\n",
       "1  Black  Brown  Male    32\n",
       "2  Brown  Brown  Male    53\n",
       "3    Red  Brown  Male    10\n",
       "4  Blond  Brown  Male     3\n",
       "5  Black   Blue  Male    11"
      ]
     },
     "execution_count": 1,
     "metadata": {},
     "output_type": "execute_result"
    }
   ],
   "source": [
    "#run the following command in your shell\n",
    "#conda install -c conda-forge cartopy\n",
    "from pydataset import data\n",
    "import matplotlib.pyplot as plt\n",
    "import matplotlib\n",
    "import numpy as np\n",
    "import os\n",
    "import pandas as pd\n",
    "import matplotlib.patches as mpatches\n",
    "import cartopy\n",
    "import cartopy.io.shapereader as shpreader\n",
    "import cartopy.crs as ccrs\n",
    "data()\n",
    "df = data('HairEyeColor')\n",
    "df.head()"
   ]
  },
  {
   "cell_type": "code",
   "execution_count": 2,
   "id": "e297045b",
   "metadata": {},
   "outputs": [],
   "source": [
    "x=df['Hair']\n",
    "y=df['Freq']\n",
    "z=df['Eye']\n",
    "testa=np.linspace(0,4*np.pi,1000)\n",
    "testb=np.sin(testa)\n",
    "c=df['Sex']\n",
    "colormap={'Male':'red','Female':'yellow'}"
   ]
  },
  {
   "cell_type": "code",
   "execution_count": 3,
   "id": "9a57c6f7",
   "metadata": {
    "scrolled": false
   },
   "outputs": [
    {
     "data": {
      "image/png": "[encoded data removed]",
      "text/plain": [
       "<Figure size 432x288 with 2 Axes>"
      ]
     },
     "metadata": {
      "needs_background": "light"
     },
     "output_type": "display_data"
    }
   ],
   "source": [
    "#fig= plt.scatter(x,y)\n",
    "# plt.bar(x)\n",
    "fig,ax=plt.subplots(2,1,num=1,sharey=True)\n",
    "# ax.plot(testa,testb)\n",
    "# plt.show()\n",
    "ax[0].bar(x,y)\n",
    "# ax[0].set_ylabel('Frequency/No of individuals')\n",
    "ax[0].set_xlabel('Hair Color')\n",
    "ax[1].bar(z,y)\n",
    "ax[1].set_ylabel('Frequency/No of individuals')\n",
    "ax[1].set_xlabel('Eye Color')\n",
    "fig.suptitle('Bar Graph of Hair and eye color vs frequency')\n",
    "plt.show()"
   ]
  },
  {
   "cell_type": "code",
   "execution_count": 4,
   "id": "3048cb1f",
   "metadata": {
    "scrolled": false
   },
   "outputs": [
    {
     "data": {
      "text/plain": [
       "<matplotlib.legend.Legend at 0x1e5e9b6d790>"
      ]
     },
     "execution_count": 4,
     "metadata": {},
     "output_type": "execute_result"
    },
    {
     "data": {
      "image/png": "[encoded data removed]",
      "text/plain": [
       "<Figure size 432x288 with 1 Axes>"
      ]
     },
     "metadata": {
      "needs_background": "light"
     },
     "output_type": "display_data"
    }
   ],
   "source": [
    "fig1,ax1=plt.subplots(1,1,num=2)\n",
    "ax1.scatter(x,y,c=[colormap[ci] for ci in c ],edgecolor='black')\n",
    "ax1.set_ylabel('Frequency/No of individuals')\n",
    "ax1.set_xlabel('Hair Color')\n",
    "fig1.suptitle('Scatter plot of Hair Color vs Frequency, with added differentiation based on sex')\n",
    "ax1.legend(colormap)\n",
    "red_patch = mpatches.Patch(color='red', label='Male')\n",
    "yellow_patch = mpatches.Patch(color='yellow', label='Female')\n",
    "ax1.legend(handles=[red_patch,yellow_patch])"
   ]
  },
  {
   "cell_type": "code",
   "execution_count": 5,
   "id": "340f1e46",
   "metadata": {
    "scrolled": false
   },
   "outputs": [
    {
     "name": "stdout",
     "output_type": "stream",
     "text": [
      "C:\\Users\\davis\\Documents\\BSE\\Brushup\\pset5\\gasindex\\Gasoline Index in Europe 2022.xlsx\n"
     ]
    },
    {
     "data": {
      "text/plain": [
       "0.45"
      ]
     },
     "execution_count": 5,
     "metadata": {},
     "output_type": "execute_result"
    }
   ],
   "source": [
    "dir=os.getcwd()\n",
    "path=dir+\"\\gasindex\\Gasoline Index in Europe 2022.xlsx\"\n",
    "print(path)\n",
    "gasindex=pd.read_excel(path)\n",
    "gasindex.head(50)\n",
    "# fig2,ax2=plt.subplots(1,1,num=3)\n",
    "gasprices=gasindex['Average price in june 2022, euro/liter']\n",
    "countries=gasindex['Country']\n",
    "# ax2.stem(country,price)\n",
    "# fig2.suptitle('gas price of country')\n",
    "gasprices.min()\n"
   ]
  },
  {
   "cell_type": "code",
   "execution_count": null,
   "id": "64906bcf",
   "metadata": {
    "scrolled": true
   },
   "outputs": [],
   "source": [
    "# #run the following command in your shell\n",
    "# # conda install -c conda-forge cartopy\n",
    "f, axmap = plt.subplots(1,1,figsize=(10,10))\n",
    "axmap = plt.axes(projection=ccrs.EuroPP())\n",
    "axmap.add_feature(cartopy.feature.BORDERS, linestyle='-', alpha=0.5)\n",
    "axmap.coastlines(resolution='10m')\n",
    "axmap.add_feature(cartopy.feature.OCEAN,facecolor=(\"lightblue\"))\n",
    "axmap.add_feature(cartopy.feature.LAND)\n",
    "axmap.gridlines()\n",
    "\n",
    "\n",
    "# get country borders\n",
    "resolution = '10m'\n",
    "category = 'cultural'\n",
    "name = 'admin_0_countries'\n",
    "shpfilename = shpreader.natural_earth(resolution, category, name)\n",
    "reader = shpreader.Reader(shpfilename)\n",
    "country_iter=list(reader.records())\n",
    "country_key=[x.attributes['NAME'] for x in country_iter]\n",
    "geom=list(reader.geometries())\n",
    "get_geom=dict(zip(country_key,geom))\n",
    "# print(sorted(get_geom.keys()))\n",
    "\n",
    "# kenya = [country for country in reader.records() if country.attributes[\"NAME_LONG\"] == \"Kenya\"][0]\n",
    "\n",
    "\n",
    "cmap = matplotlib.cm.get_cmap('plasma')\n",
    "# # Normalise the prices to between 0 and 1 to extract the colour\n",
    "price_norm = [(price-np.nanmin(gasprices))/(np.nanmax(gasprices) - np.nanmin(gasprices)) for price in gasprices]\n",
    "\n",
    "for country, price in zip(countries, price_norm):\n",
    "    # read the borders of the country in this loop\n",
    "    poly = [get_geom[country] for co in reader.records() if co.attributes[\"NAME\"] == country]\n",
    "\n",
    "    # get the color for this country\n",
    "    rgba = cmap(price)\n",
    "    # plot the country on a map\n",
    "    axmap.add_geometries(poly, crs=ccrs.PlateCarree(), facecolor=rgba, edgecolor='none', zorder=1)\n",
    "\n",
    "#getting the colormap with original price values\n",
    "norm = matplotlib.colors.Normalize(vmin=0.45, vmax=2.56) \n",
    "f.colorbar(matplotlib.cm.ScalarMappable(norm=norm, cmap=cmap), label='Gas prices (eur/L)', orientation='vertical', shrink=0.8)\n",
    "plt.suptitle('Gas prices June 2022, euro/litre in gradient over a map of Europe')\n",
    "plt.show()"
   ]
  },
  {
   "cell_type": "code",
   "execution_count": null,
   "id": "33e74a21",
   "metadata": {},
   "outputs": [],
   "source": []
  },
  {
   "cell_type": "code",
   "execution_count": null,
   "id": "8e3e1be4",
   "metadata": {},
   "outputs": [],
   "source": []
  },
  {
   "cell_type": "code",
   "execution_count": null,
   "id": "f5ac43c0",
   "metadata": {},
   "outputs": [],
   "source": []
  }
 ],
 "metadata": {
  "kernelspec": {
   "display_name": "Python 3",
   "language": "python",
   "name": "python3"
  },
  "language_info": {
   "codemirror_mode": {
    "name": "ipython",
    "version": 3
   },
   "file_extension": ".py",
   "mimetype": "text/x-python",
   "name": "python",
   "nbconvert_exporter": "python",
   "pygments_lexer": "ipython3",
   "version": "3.8.3"
  }
 },
 "nbformat": 4,
 "nbformat_minor": 5
}
